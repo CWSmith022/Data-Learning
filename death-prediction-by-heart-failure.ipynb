{
 "cells": [
  {
   "cell_type": "markdown",
   "execution_count": null,
   "metadata": {
    "papermill": {
     "duration": 0.01264,
     "end_time": "2020-08-27T02:07:57.072290",
     "exception": false,
     "start_time": "2020-08-27T02:07:57.059650",
     "status": "completed"
    },
    "tags": []
   },
   "source": [
    "# <u> Death Prediction by Heart Failure</u>\n",
    "<u> By: Christopher Smith https://github.com/CWSmith022/Learning.git</u>\n",
    "\n",
    "The published data is from: <u> Davide Chicco, Giuseppe Jurman: Machine learning can predict survival of patients with heart failure from serum creatinine and ejection fraction alone. BMC Medical Informatics and Decision Making 20, 16 (2020). </u>\n",
    "\n",
    "The .csv file was obtained from: https://www.kaggle.com/andrewmvd/heart-failure-clinical-data\n",
    "\n",
    "\n",
    "Heart disease is the leading cause of death for people in the United States. The development of models for prediction for potential of heart disease related death could be important for saving lives. Here, an approach using tools in the sci-kit learn library will be used for prediction of deaths by heart attacks. The process starts by feature selection with the KBestFunction by $Chi^{2}$ score, then the data is preprocessed to be used for several supervised Machine Learning Algorithms.\n",
    "\n",
    "The Algorithms used are:\n",
    "\n",
    "- Logistic Regression\n",
    "- Support Vector Machines\n",
    "- K-Nearest Neighbors\n",
    "- Random Forest\n",
    "- Gradient Boosting\n",
    "- Ridge Classifier\n",
    "\n",
    "## <u> Logistic Regression </u> \n",
    "A model that is used statistically for binary dependent variables based on the probability of an event occuring. This can be further extended for several variables in a classification setting for multi-class prediction.\n",
    "    \n",
    "## <u> Support Vector Machines (SVM) </u>\n",
    "Commonly used for classification tasks, SVM's function by a Kernel which draws points on a hyperplane and uses a set of vectors to separate data points. This separation of data points creates a decision boundary for where a new data point can be predicted for a specific class label. \n",
    "\n",
    "## <u> K-Nearest Neighbors </u>\n",
    "Simply, an algorithm that clusters the data and by a measure of distance to the 'k' nearest points votes for a specific class prediction.\n",
    "\n",
    "## <u> Random Forest </u> \n",
    "An ensemble method that estimates several weak decision trees and combines the mean to create an uncorrelated forest at the end. The uncorrelated forest should be able to predict more accurately than an individual tree.\n",
    "\n",
    "## <u> Gradient Boosting </u>\n",
    "Similar to Random Forest, Gradient Boosting builds trees one at a time then ensembles them as each one is built.\n",
    "\n",
    "## <u> Ridge Classifier </u>\n",
    "Normalizes data then treats problem as a multi-output regression task."
   ]
  },
  {
   "cell_type": "markdown",
   "execution_count": null,
   "metadata": {
    "papermill": {
     "duration": 0.012958,
     "end_time": "2020-08-27T02:07:57.097162",
     "exception": false,
     "start_time": "2020-08-27T02:07:57.084204",
     "status": "completed"
    },
    "tags": []
   },
   "source": [
    "## Table of Contents\n",
    "\n",
    "[1.Importing Libraries](#1) <br/>\n",
    "[2.Importing Data](#2) <br/>\n",
    "[3.Exploring Data](#3) <br/>\n",
    "[4.Feature Selection](#3) <br/>\n",
    "[5.Splitting the Data](#4) <br/>\n",
    "[6.Feature Scaling (Normalization)](#5) <br/>\n",
    "[7.Machine Learning](#6) <br/>\n",
    "    [7.1.Logistic Regression](#7.1) <br/>\n",
    "    [7.2.Support Vector Machine](#7.2) <br/>\n",
    "    [7.3.K-Nearest Neighbor](#7.3) <br/>\n",
    "    [7.4.Random Forest](#7.4) <br/>\n",
    "    [7.5.Gradient Boosting](#7.5) <br/>\n",
    "    [7.6.Ridge Classifier](#7.6) <br/>\n",
    "[8.Evaluation of Acuracy](#9) <br/>\n",
    "[9.Discussion](#10) <br/>\n"
   ]
  },
  {
   "cell_type": "markdown",
   "execution_count": null,
   "metadata": {
    "papermill": {
     "duration": 0.010567,
     "end_time": "2020-08-27T02:07:57.119509",
     "exception": false,
     "start_time": "2020-08-27T02:07:57.108942",
     "status": "completed"
    },
    "tags": []
   },
   "source": [
    "<a id=\"1\"></a>\n",
    "## Importing Libraries"
   ]
  },
  {
   "cell_type": "code",
   "execution_count": 1,
   "metadata": {
    "execution": {
     "iopub.execute_input": "2020-08-27T02:07:57.157975Z",
     "iopub.status.busy": "2020-08-27T02:07:57.155511Z",
     "iopub.status.idle": "2020-08-27T02:07:58.671921Z",
     "shell.execute_reply": "2020-08-27T02:07:58.671116Z"
    },
    "papermill": {
     "duration": 1.541743,
     "end_time": "2020-08-27T02:07:58.672074",
     "exception": false,
     "start_time": "2020-08-27T02:07:57.130331",
     "status": "completed"
    },
    "tags": []
   },
   "outputs": [],
   "source": [
    "#Simple Data processing\n",
    "import numpy as np #linear algebra\n",
    "import pandas as pd # data processing, .csv load\n",
    "\n",
    "#Feature Selection\n",
    "from sklearn.feature_selection import SelectKBest\n",
    "from sklearn.feature_selection import chi2\n",
    "\n",
    "#Data Visualization\n",
    "import matplotlib.pyplot as plt\n",
    "from mpl_toolkits.mplot3d import Axes3D\n",
    "from matplotlib.ticker import NullFormatter\n",
    "import matplotlib.ticker as ticker\n",
    "import itertools #For Confusion Matrix\n",
    "%matplotlib inline\n",
    "import seaborn as sns\n",
    "\n",
    "# Scaling\n",
    "from sklearn import preprocessing #For data normalization\n",
    "\n",
    "# Model Selection\n",
    "from sklearn.model_selection import train_test_split, cross_val_score, GridSearchCV # For parameterization and splitting data\n",
    "from sklearn.metrics import confusion_matrix\n",
    "from sklearn import metrics # For Accuracy\n",
    "\n",
    "#Classification Algorithms\n",
    "from sklearn.neighbors import KNeighborsClassifier\n",
    "from sklearn.linear_model import LogisticRegression\n",
    "from sklearn.svm import SVC\n",
    "from sklearn.ensemble import RandomForestClassifier\n",
    "from sklearn.ensemble import GradientBoostingClassifier\n",
    "from sklearn.linear_model import RidgeClassifier"
   ]
  },
  {
   "cell_type": "markdown",
   "execution_count": null,
   "metadata": {
    "papermill": {
     "duration": 0.010741,
     "end_time": "2020-08-27T02:07:58.695104",
     "exception": false,
     "start_time": "2020-08-27T02:07:58.684363",
     "status": "completed"
    },
    "tags": []
   },
   "source": [
    "<a id=\"2\"></a>\n",
    "# Importing Data"
   ]
  },
  {
   "cell_type": "code",
   "execution_count": 2,
   "metadata": {
    "execution": {
     "iopub.execute_input": "2020-08-27T02:07:58.723598Z",
     "iopub.status.busy": "2020-08-27T02:07:58.722803Z",
     "iopub.status.idle": "2020-08-27T02:07:58.729368Z",
     "shell.execute_reply": "2020-08-27T02:07:58.730257Z"
    },
    "papermill": {
     "duration": 0.024697,
     "end_time": "2020-08-27T02:07:58.730494",
     "exception": false,
     "start_time": "2020-08-27T02:07:58.705797",
     "status": "completed"
    },
    "tags": []
   },
   "outputs": [
    {
     "name": "stdout",
     "output_type": "stream",
     "text": [
      "/kaggle/input/heart-failure-clinical-data/heart_failure_clinical_records_dataset.csv\n"
     ]
    }
   ],
   "source": [
    "import os\n",
    "for dirname, _, filenames in os.walk('/kaggle/input'):\n",
    "    for filename in filenames:\n",
    "        print(os.path.join(dirname, filename))"
   ]
  },
  {
   "cell_type": "code",
   "execution_count": 3,
   "metadata": {
    "execution": {
     "iopub.execute_input": "2020-08-27T02:07:58.760693Z",
     "iopub.status.busy": "2020-08-27T02:07:58.759837Z",
     "iopub.status.idle": "2020-08-27T02:07:58.807705Z",
     "shell.execute_reply": "2020-08-27T02:07:58.806897Z"
    },
    "papermill": {
     "duration": 0.066145,
     "end_time": "2020-08-27T02:07:58.807851",
     "exception": false,
     "start_time": "2020-08-27T02:07:58.741706",
     "status": "completed"
    },
    "tags": []
   },
   "outputs": [
    {
     "data": {
      "text/html": [
       "<div>\n",
       "<style scoped>\n",
       "    .dataframe tbody tr th:only-of-type {\n",
       "        vertical-align: middle;\n",
       "    }\n",
       "\n",
       "    .dataframe tbody tr th {\n",
       "        vertical-align: top;\n",
       "    }\n",
       "\n",
       "    .dataframe thead th {\n",
       "        text-align: right;\n",
       "    }\n",
       "</style>\n",
       "<table border=\"1\" class=\"dataframe\">\n",
       "  <thead>\n",
       "    <tr style=\"text-align: right;\">\n",
       "      <th></th>\n",
       "      <th>age</th>\n",
       "      <th>anaemia</th>\n",
       "      <th>creatinine_phosphokinase</th>\n",
       "      <th>diabetes</th>\n",
       "      <th>ejection_fraction</th>\n",
       "      <th>high_blood_pressure</th>\n",
       "      <th>platelets</th>\n",
       "      <th>serum_creatinine</th>\n",
       "      <th>serum_sodium</th>\n",
       "      <th>sex</th>\n",
       "      <th>smoking</th>\n",
       "      <th>time</th>\n",
       "      <th>DEATH_EVENT</th>\n",
       "    </tr>\n",
       "  </thead>\n",
       "  <tbody>\n",
       "    <tr>\n",
       "      <th>0</th>\n",
       "      <td>75.0</td>\n",
       "      <td>0</td>\n",
       "      <td>582</td>\n",
       "      <td>0</td>\n",
       "      <td>20</td>\n",
       "      <td>1</td>\n",
       "      <td>265000.00</td>\n",
       "      <td>1.9</td>\n",
       "      <td>130</td>\n",
       "      <td>1</td>\n",
       "      <td>0</td>\n",
       "      <td>4</td>\n",
       "      <td>1</td>\n",
       "    </tr>\n",
       "    <tr>\n",
       "      <th>1</th>\n",
       "      <td>55.0</td>\n",
       "      <td>0</td>\n",
       "      <td>7861</td>\n",
       "      <td>0</td>\n",
       "      <td>38</td>\n",
       "      <td>0</td>\n",
       "      <td>263358.03</td>\n",
       "      <td>1.1</td>\n",
       "      <td>136</td>\n",
       "      <td>1</td>\n",
       "      <td>0</td>\n",
       "      <td>6</td>\n",
       "      <td>1</td>\n",
       "    </tr>\n",
       "    <tr>\n",
       "      <th>2</th>\n",
       "      <td>65.0</td>\n",
       "      <td>0</td>\n",
       "      <td>146</td>\n",
       "      <td>0</td>\n",
       "      <td>20</td>\n",
       "      <td>0</td>\n",
       "      <td>162000.00</td>\n",
       "      <td>1.3</td>\n",
       "      <td>129</td>\n",
       "      <td>1</td>\n",
       "      <td>1</td>\n",
       "      <td>7</td>\n",
       "      <td>1</td>\n",
       "    </tr>\n",
       "    <tr>\n",
       "      <th>3</th>\n",
       "      <td>50.0</td>\n",
       "      <td>1</td>\n",
       "      <td>111</td>\n",
       "      <td>0</td>\n",
       "      <td>20</td>\n",
       "      <td>0</td>\n",
       "      <td>210000.00</td>\n",
       "      <td>1.9</td>\n",
       "      <td>137</td>\n",
       "      <td>1</td>\n",
       "      <td>0</td>\n",
       "      <td>7</td>\n",
       "      <td>1</td>\n",
       "    </tr>\n",
       "    <tr>\n",
       "      <th>4</th>\n",
       "      <td>65.0</td>\n",
       "      <td>1</td>\n",
       "      <td>160</td>\n",
       "      <td>1</td>\n",
       "      <td>20</td>\n",
       "      <td>0</td>\n",
       "      <td>327000.00</td>\n",
       "      <td>2.7</td>\n",
       "      <td>116</td>\n",
       "      <td>0</td>\n",
       "      <td>0</td>\n",
       "      <td>8</td>\n",
       "      <td>1</td>\n",
       "    </tr>\n",
       "    <tr>\n",
       "      <th>...</th>\n",
       "      <td>...</td>\n",
       "      <td>...</td>\n",
       "      <td>...</td>\n",
       "      <td>...</td>\n",
       "      <td>...</td>\n",
       "      <td>...</td>\n",
       "      <td>...</td>\n",
       "      <td>...</td>\n",
       "      <td>...</td>\n",
       "      <td>...</td>\n",
       "      <td>...</td>\n",
       "      <td>...</td>\n",
       "      <td>...</td>\n",
       "    </tr>\n",
       "    <tr>\n",
       "      <th>294</th>\n",
       "      <td>62.0</td>\n",
       "      <td>0</td>\n",
       "      <td>61</td>\n",
       "      <td>1</td>\n",
       "      <td>38</td>\n",
       "      <td>1</td>\n",
       "      <td>155000.00</td>\n",
       "      <td>1.1</td>\n",
       "      <td>143</td>\n",
       "      <td>1</td>\n",
       "      <td>1</td>\n",
       "      <td>270</td>\n",
       "      <td>0</td>\n",
       "    </tr>\n",
       "    <tr>\n",
       "      <th>295</th>\n",
       "      <td>55.0</td>\n",
       "      <td>0</td>\n",
       "      <td>1820</td>\n",
       "      <td>0</td>\n",
       "      <td>38</td>\n",
       "      <td>0</td>\n",
       "      <td>270000.00</td>\n",
       "      <td>1.2</td>\n",
       "      <td>139</td>\n",
       "      <td>0</td>\n",
       "      <td>0</td>\n",
       "      <td>271</td>\n",
       "      <td>0</td>\n",
       "    </tr>\n",
       "    <tr>\n",
       "      <th>296</th>\n",
       "      <td>45.0</td>\n",
       "      <td>0</td>\n",
       "      <td>2060</td>\n",
       "      <td>1</td>\n",
       "      <td>60</td>\n",
       "      <td>0</td>\n",
       "      <td>742000.00</td>\n",
       "      <td>0.8</td>\n",
       "      <td>138</td>\n",
       "      <td>0</td>\n",
       "      <td>0</td>\n",
       "      <td>278</td>\n",
       "      <td>0</td>\n",
       "    </tr>\n",
       "    <tr>\n",
       "      <th>297</th>\n",
       "      <td>45.0</td>\n",
       "      <td>0</td>\n",
       "      <td>2413</td>\n",
       "      <td>0</td>\n",
       "      <td>38</td>\n",
       "      <td>0</td>\n",
       "      <td>140000.00</td>\n",
       "      <td>1.4</td>\n",
       "      <td>140</td>\n",
       "      <td>1</td>\n",
       "      <td>1</td>\n",
       "      <td>280</td>\n",
       "      <td>0</td>\n",
       "    </tr>\n",
       "    <tr>\n",
       "      <th>298</th>\n",
       "      <td>50.0</td>\n",
       "      <td>0</td>\n",
       "      <td>196</td>\n",
       "      <td>0</td>\n",
       "      <td>45</td>\n",
       "      <td>0</td>\n",
       "      <td>395000.00</td>\n",
       "      <td>1.6</td>\n",
       "      <td>136</td>\n",
       "      <td>1</td>\n",
       "      <td>1</td>\n",
       "      <td>285</td>\n",
       "      <td>0</td>\n",
       "    </tr>\n",
       "  </tbody>\n",
       "</table>\n",
       "<p>299 rows × 13 columns</p>\n",
       "</div>"
      ],
      "text/plain": [
       "      age  anaemia  creatinine_phosphokinase  diabetes  ejection_fraction  \\\n",
       "0    75.0        0                       582         0                 20   \n",
       "1    55.0        0                      7861         0                 38   \n",
       "2    65.0        0                       146         0                 20   \n",
       "3    50.0        1                       111         0                 20   \n",
       "4    65.0        1                       160         1                 20   \n",
       "..    ...      ...                       ...       ...                ...   \n",
       "294  62.0        0                        61         1                 38   \n",
       "295  55.0        0                      1820         0                 38   \n",
       "296  45.0        0                      2060         1                 60   \n",
       "297  45.0        0                      2413         0                 38   \n",
       "298  50.0        0                       196         0                 45   \n",
       "\n",
       "     high_blood_pressure  platelets  serum_creatinine  serum_sodium  sex  \\\n",
       "0                      1  265000.00               1.9           130    1   \n",
       "1                      0  263358.03               1.1           136    1   \n",
       "2                      0  162000.00               1.3           129    1   \n",
       "3                      0  210000.00               1.9           137    1   \n",
       "4                      0  327000.00               2.7           116    0   \n",
       "..                   ...        ...               ...           ...  ...   \n",
       "294                    1  155000.00               1.1           143    1   \n",
       "295                    0  270000.00               1.2           139    0   \n",
       "296                    0  742000.00               0.8           138    0   \n",
       "297                    0  140000.00               1.4           140    1   \n",
       "298                    0  395000.00               1.6           136    1   \n",
       "\n",
       "     smoking  time  DEATH_EVENT  \n",
       "0          0     4            1  \n",
       "1          0     6            1  \n",
       "2          1     7            1  \n",
       "3          0     7            1  \n",
       "4          0     8            1  \n",
       "..       ...   ...          ...  \n",
       "294        1   270            0  \n",
       "295        0   271            0  \n",
       "296        0   278            0  \n",
       "297        1   280            0  \n",
       "298        1   285            0  \n",
       "\n",
       "[299 rows x 13 columns]"
      ]
     },
     "execution_count": 3,
     "metadata": {},
     "output_type": "execute_result"
    }
   ],
   "source": [
    "heart=pd.read_csv('/kaggle/input/heart-failure-clinical-data/heart_failure_clinical_records_dataset.csv')\n",
    "heart"
   ]
  },
  {
   "cell_type": "markdown",
   "execution_count": null,
   "metadata": {
    "papermill": {
     "duration": 0.011409,
     "end_time": "2020-08-27T02:07:58.830812",
     "exception": false,
     "start_time": "2020-08-27T02:07:58.819403",
     "status": "completed"
    },
    "tags": []
   },
   "source": [
    "<a id=\"3\"></a>\n",
    "# Exploring Data"
   ]
  },
  {
   "cell_type": "code",
   "execution_count": 4,
   "metadata": {
    "_cell_guid": "b1076dfc-b9ad-4769-8c92-a6c4dae69d19",
    "_uuid": "8f2839f25d086af736a60e9eeb907d3b93b6e0e5",
    "execution": {
     "iopub.execute_input": "2020-08-27T02:07:58.868007Z",
     "iopub.status.busy": "2020-08-27T02:07:58.866831Z",
     "iopub.status.idle": "2020-08-27T02:07:58.918431Z",
     "shell.execute_reply": "2020-08-27T02:07:58.917680Z"
    },
    "papermill": {
     "duration": 0.076243,
     "end_time": "2020-08-27T02:07:58.918579",
     "exception": false,
     "start_time": "2020-08-27T02:07:58.842336",
     "status": "completed"
    },
    "tags": []
   },
   "outputs": [
    {
     "data": {
      "text/html": [
       "<div>\n",
       "<style scoped>\n",
       "    .dataframe tbody tr th:only-of-type {\n",
       "        vertical-align: middle;\n",
       "    }\n",
       "\n",
       "    .dataframe tbody tr th {\n",
       "        vertical-align: top;\n",
       "    }\n",
       "\n",
       "    .dataframe thead th {\n",
       "        text-align: right;\n",
       "    }\n",
       "</style>\n",
       "<table border=\"1\" class=\"dataframe\">\n",
       "  <thead>\n",
       "    <tr style=\"text-align: right;\">\n",
       "      <th></th>\n",
       "      <th>age</th>\n",
       "      <th>anaemia</th>\n",
       "      <th>creatinine_phosphokinase</th>\n",
       "      <th>diabetes</th>\n",
       "      <th>ejection_fraction</th>\n",
       "      <th>high_blood_pressure</th>\n",
       "      <th>platelets</th>\n",
       "      <th>serum_creatinine</th>\n",
       "      <th>serum_sodium</th>\n",
       "      <th>sex</th>\n",
       "      <th>smoking</th>\n",
       "      <th>time</th>\n",
       "      <th>DEATH_EVENT</th>\n",
       "    </tr>\n",
       "  </thead>\n",
       "  <tbody>\n",
       "    <tr>\n",
       "      <th>count</th>\n",
       "      <td>299.000000</td>\n",
       "      <td>299.000000</td>\n",
       "      <td>299.000000</td>\n",
       "      <td>299.000000</td>\n",
       "      <td>299.000000</td>\n",
       "      <td>299.000000</td>\n",
       "      <td>299.000000</td>\n",
       "      <td>299.00000</td>\n",
       "      <td>299.000000</td>\n",
       "      <td>299.000000</td>\n",
       "      <td>299.00000</td>\n",
       "      <td>299.000000</td>\n",
       "      <td>299.00000</td>\n",
       "    </tr>\n",
       "    <tr>\n",
       "      <th>mean</th>\n",
       "      <td>60.833893</td>\n",
       "      <td>0.431438</td>\n",
       "      <td>581.839465</td>\n",
       "      <td>0.418060</td>\n",
       "      <td>38.083612</td>\n",
       "      <td>0.351171</td>\n",
       "      <td>263358.029264</td>\n",
       "      <td>1.39388</td>\n",
       "      <td>136.625418</td>\n",
       "      <td>0.648829</td>\n",
       "      <td>0.32107</td>\n",
       "      <td>130.260870</td>\n",
       "      <td>0.32107</td>\n",
       "    </tr>\n",
       "    <tr>\n",
       "      <th>std</th>\n",
       "      <td>11.894809</td>\n",
       "      <td>0.496107</td>\n",
       "      <td>970.287881</td>\n",
       "      <td>0.494067</td>\n",
       "      <td>11.834841</td>\n",
       "      <td>0.478136</td>\n",
       "      <td>97804.236869</td>\n",
       "      <td>1.03451</td>\n",
       "      <td>4.412477</td>\n",
       "      <td>0.478136</td>\n",
       "      <td>0.46767</td>\n",
       "      <td>77.614208</td>\n",
       "      <td>0.46767</td>\n",
       "    </tr>\n",
       "    <tr>\n",
       "      <th>min</th>\n",
       "      <td>40.000000</td>\n",
       "      <td>0.000000</td>\n",
       "      <td>23.000000</td>\n",
       "      <td>0.000000</td>\n",
       "      <td>14.000000</td>\n",
       "      <td>0.000000</td>\n",
       "      <td>25100.000000</td>\n",
       "      <td>0.50000</td>\n",
       "      <td>113.000000</td>\n",
       "      <td>0.000000</td>\n",
       "      <td>0.00000</td>\n",
       "      <td>4.000000</td>\n",
       "      <td>0.00000</td>\n",
       "    </tr>\n",
       "    <tr>\n",
       "      <th>25%</th>\n",
       "      <td>51.000000</td>\n",
       "      <td>0.000000</td>\n",
       "      <td>116.500000</td>\n",
       "      <td>0.000000</td>\n",
       "      <td>30.000000</td>\n",
       "      <td>0.000000</td>\n",
       "      <td>212500.000000</td>\n",
       "      <td>0.90000</td>\n",
       "      <td>134.000000</td>\n",
       "      <td>0.000000</td>\n",
       "      <td>0.00000</td>\n",
       "      <td>73.000000</td>\n",
       "      <td>0.00000</td>\n",
       "    </tr>\n",
       "    <tr>\n",
       "      <th>50%</th>\n",
       "      <td>60.000000</td>\n",
       "      <td>0.000000</td>\n",
       "      <td>250.000000</td>\n",
       "      <td>0.000000</td>\n",
       "      <td>38.000000</td>\n",
       "      <td>0.000000</td>\n",
       "      <td>262000.000000</td>\n",
       "      <td>1.10000</td>\n",
       "      <td>137.000000</td>\n",
       "      <td>1.000000</td>\n",
       "      <td>0.00000</td>\n",
       "      <td>115.000000</td>\n",
       "      <td>0.00000</td>\n",
       "    </tr>\n",
       "    <tr>\n",
       "      <th>75%</th>\n",
       "      <td>70.000000</td>\n",
       "      <td>1.000000</td>\n",
       "      <td>582.000000</td>\n",
       "      <td>1.000000</td>\n",
       "      <td>45.000000</td>\n",
       "      <td>1.000000</td>\n",
       "      <td>303500.000000</td>\n",
       "      <td>1.40000</td>\n",
       "      <td>140.000000</td>\n",
       "      <td>1.000000</td>\n",
       "      <td>1.00000</td>\n",
       "      <td>203.000000</td>\n",
       "      <td>1.00000</td>\n",
       "    </tr>\n",
       "    <tr>\n",
       "      <th>max</th>\n",
       "      <td>95.000000</td>\n",
       "      <td>1.000000</td>\n",
       "      <td>7861.000000</td>\n",
       "      <td>1.000000</td>\n",
       "      <td>80.000000</td>\n",
       "      <td>1.000000</td>\n",
       "      <td>850000.000000</td>\n",
       "      <td>9.40000</td>\n",
       "      <td>148.000000</td>\n",
       "      <td>1.000000</td>\n",
       "      <td>1.00000</td>\n",
       "      <td>285.000000</td>\n",
       "      <td>1.00000</td>\n",
       "    </tr>\n",
       "  </tbody>\n",
       "</table>\n",
       "</div>"
      ],
      "text/plain": [
       "              age     anaemia  creatinine_phosphokinase    diabetes  \\\n",
       "count  299.000000  299.000000                299.000000  299.000000   \n",
       "mean    60.833893    0.431438                581.839465    0.418060   \n",
       "std     11.894809    0.496107                970.287881    0.494067   \n",
       "min     40.000000    0.000000                 23.000000    0.000000   \n",
       "25%     51.000000    0.000000                116.500000    0.000000   \n",
       "50%     60.000000    0.000000                250.000000    0.000000   \n",
       "75%     70.000000    1.000000                582.000000    1.000000   \n",
       "max     95.000000    1.000000               7861.000000    1.000000   \n",
       "\n",
       "       ejection_fraction  high_blood_pressure      platelets  \\\n",
       "count         299.000000           299.000000     299.000000   \n",
       "mean           38.083612             0.351171  263358.029264   \n",
       "std            11.834841             0.478136   97804.236869   \n",
       "min            14.000000             0.000000   25100.000000   \n",
       "25%            30.000000             0.000000  212500.000000   \n",
       "50%            38.000000             0.000000  262000.000000   \n",
       "75%            45.000000             1.000000  303500.000000   \n",
       "max            80.000000             1.000000  850000.000000   \n",
       "\n",
       "       serum_creatinine  serum_sodium         sex    smoking        time  \\\n",
       "count         299.00000    299.000000  299.000000  299.00000  299.000000   \n",
       "mean            1.39388    136.625418    0.648829    0.32107  130.260870   \n",
       "std             1.03451      4.412477    0.478136    0.46767   77.614208   \n",
       "min             0.50000    113.000000    0.000000    0.00000    4.000000   \n",
       "25%             0.90000    134.000000    0.000000    0.00000   73.000000   \n",
       "50%             1.10000    137.000000    1.000000    0.00000  115.000000   \n",
       "75%             1.40000    140.000000    1.000000    1.00000  203.000000   \n",
       "max             9.40000    148.000000    1.000000    1.00000  285.000000   \n",
       "\n",
       "       DEATH_EVENT  \n",
       "count    299.00000  \n",
       "mean       0.32107  \n",
       "std        0.46767  \n",
       "min        0.00000  \n",
       "25%        0.00000  \n",
       "50%        0.00000  \n",
       "75%        1.00000  \n",
       "max        1.00000  "
      ]
     },
     "execution_count": 4,
     "metadata": {},
     "output_type": "execute_result"
    }
   ],
   "source": [
    "heart.describe()"
   ]
  },
  {
   "cell_type": "code",
   "execution_count": 5,
   "metadata": {
    "_cell_guid": "79c7e3d0-c299-4dcb-8224-4455121ee9b0",
    "_uuid": "d629ff2d2480ee46fbb7e2d37f6b5fab8052498a",
    "execution": {
     "iopub.execute_input": "2020-08-27T02:07:58.962984Z",
     "iopub.status.busy": "2020-08-27T02:07:58.962014Z",
     "iopub.status.idle": "2020-08-27T02:07:58.965948Z",
     "shell.execute_reply": "2020-08-27T02:07:58.966861Z"
    },
    "papermill": {
     "duration": 0.035852,
     "end_time": "2020-08-27T02:07:58.967093",
     "exception": false,
     "start_time": "2020-08-27T02:07:58.931241",
     "status": "completed"
    },
    "tags": []
   },
   "outputs": [
    {
     "name": "stdout",
     "output_type": "stream",
     "text": [
      "<class 'pandas.core.frame.DataFrame'>\n",
      "RangeIndex: 299 entries, 0 to 298\n",
      "Data columns (total 13 columns):\n",
      " #   Column                    Non-Null Count  Dtype  \n",
      "---  ------                    --------------  -----  \n",
      " 0   age                       299 non-null    float64\n",
      " 1   anaemia                   299 non-null    int64  \n",
      " 2   creatinine_phosphokinase  299 non-null    int64  \n",
      " 3   diabetes                  299 non-null    int64  \n",
      " 4   ejection_fraction         299 non-null    int64  \n",
      " 5   high_blood_pressure       299 non-null    int64  \n",
      " 6   platelets                 299 non-null    float64\n",
      " 7   serum_creatinine          299 non-null    float64\n",
      " 8   serum_sodium              299 non-null    int64  \n",
      " 9   sex                       299 non-null    int64  \n",
      " 10  smoking                   299 non-null    int64  \n",
      " 11  time                      299 non-null    int64  \n",
      " 12  DEATH_EVENT               299 non-null    int64  \n",
      "dtypes: float64(3), int64(10)\n",
      "memory usage: 30.5 KB\n"
     ]
    }
   ],
   "source": [
    "heart.info()"
   ]
  },
  {
   "cell_type": "code",
   "execution_count": 6,
   "metadata": {
    "execution": {
     "iopub.execute_input": "2020-08-27T02:07:58.999675Z",
     "iopub.status.busy": "2020-08-27T02:07:58.998853Z",
     "iopub.status.idle": "2020-08-27T02:07:59.002623Z",
     "shell.execute_reply": "2020-08-27T02:07:59.003371Z"
    },
    "papermill": {
     "duration": 0.022739,
     "end_time": "2020-08-27T02:07:59.003612",
     "exception": false,
     "start_time": "2020-08-27T02:07:58.980873",
     "status": "completed"
    },
    "tags": []
   },
   "outputs": [
    {
     "name": "stdout",
     "output_type": "stream",
     "text": [
      "<bound method Index.unique of Index(['age', 'anaemia', 'creatinine_phosphokinase', 'diabetes',\n",
      "       'ejection_fraction', 'high_blood_pressure', 'platelets',\n",
      "       'serum_creatinine', 'serum_sodium', 'sex', 'smoking', 'time',\n",
      "       'DEATH_EVENT'],\n",
      "      dtype='object')>\n"
     ]
    }
   ],
   "source": [
    "print(heart.columns.unique)"
   ]
  },
  {
   "cell_type": "markdown",
   "execution_count": null,
   "metadata": {
    "papermill": {
     "duration": 0.011918,
     "end_time": "2020-08-27T02:07:59.029254",
     "exception": false,
     "start_time": "2020-08-27T02:07:59.017336",
     "status": "completed"
    },
    "tags": []
   },
   "source": [
    "<a id=\"4\"></a>\n",
    "# Feature Selection"
   ]
  },
  {
   "cell_type": "code",
   "execution_count": 7,
   "metadata": {
    "execution": {
     "iopub.execute_input": "2020-08-27T02:07:59.063382Z",
     "iopub.status.busy": "2020-08-27T02:07:59.062210Z",
     "iopub.status.idle": "2020-08-27T02:07:59.066113Z",
     "shell.execute_reply": "2020-08-27T02:07:59.065249Z"
    },
    "papermill": {
     "duration": 0.024618,
     "end_time": "2020-08-27T02:07:59.066257",
     "exception": false,
     "start_time": "2020-08-27T02:07:59.041639",
     "status": "completed"
    },
    "tags": []
   },
   "outputs": [],
   "source": [
    "#Separating the data to asses with feature selection \n",
    "X_feat=heart[['age', 'anaemia', 'creatinine_phosphokinase', 'diabetes',\n",
    "       'ejection_fraction', 'high_blood_pressure', 'platelets',\n",
    "       'serum_creatinine', 'serum_sodium', 'sex', 'smoking', 'time']]\n",
    "y_feat=heart['DEATH_EVENT']"
   ]
  },
  {
   "cell_type": "code",
   "execution_count": 8,
   "metadata": {
    "execution": {
     "iopub.execute_input": "2020-08-27T02:07:59.163742Z",
     "iopub.status.busy": "2020-08-27T02:07:59.106294Z",
     "iopub.status.idle": "2020-08-27T02:07:59.184013Z",
     "shell.execute_reply": "2020-08-27T02:07:59.184807Z"
    },
    "papermill": {
     "duration": 0.10632,
     "end_time": "2020-08-27T02:07:59.185047",
     "exception": false,
     "start_time": "2020-08-27T02:07:59.078727",
     "status": "completed"
    },
    "tags": []
   },
   "outputs": [
    {
     "name": "stdout",
     "output_type": "stream",
     "text": [
      "                     Factors         Score\n",
      "6                  platelets  26135.771990\n",
      "11                      time   3826.892661\n",
      "2   creatinine_phosphokinase   1897.314839\n",
      "4          ejection_fraction     79.072541\n",
      "0                        age     44.619455\n"
     ]
    }
   ],
   "source": [
    "#Feature Selection\n",
    "bestfeatures = SelectKBest(score_func=chi2, k=5)\n",
    "fit = bestfeatures.fit(X_feat,y_feat)\n",
    "dfscores = pd.DataFrame(fit.scores_)\n",
    "dfcolumns = pd.DataFrame(X_feat.columns)\n",
    "#concat two dataframes for better visualization \n",
    "featureScores = pd.concat([dfcolumns,dfscores],axis=1)\n",
    "featureScores.columns = ['Factors','Score']  #naming the dataframe columns\n",
    "print(featureScores.nlargest(5,'Score'))  #print 5 best features"
   ]
  },
  {
   "cell_type": "markdown",
   "execution_count": null,
   "metadata": {
    "papermill": {
     "duration": 0.012814,
     "end_time": "2020-08-27T02:07:59.211094",
     "exception": false,
     "start_time": "2020-08-27T02:07:59.198280",
     "status": "completed"
    },
    "tags": []
   },
   "source": [
    "By using KBest selection with the $Chi^{2}$ scorer that the top 5 Factors that could be related to 'DEATH_EVENT' are shown above and these will be used here on out for prediction of 'DEATH_EVENT'."
   ]
  },
  {
   "cell_type": "markdown",
   "execution_count": null,
   "metadata": {
    "papermill": {
     "duration": 0.01205,
     "end_time": "2020-08-27T02:07:59.235727",
     "exception": false,
     "start_time": "2020-08-27T02:07:59.223677",
     "status": "completed"
    },
    "tags": []
   },
   "source": [
    "<a id=\"5\"></a>\n",
    "# Splitting The Data"
   ]
  },
  {
   "cell_type": "code",
   "execution_count": 9,
   "metadata": {
    "execution": {
     "iopub.execute_input": "2020-08-27T02:07:59.272777Z",
     "iopub.status.busy": "2020-08-27T02:07:59.269811Z",
     "iopub.status.idle": "2020-08-27T02:07:59.279513Z",
     "shell.execute_reply": "2020-08-27T02:07:59.278348Z"
    },
    "papermill": {
     "duration": 0.031396,
     "end_time": "2020-08-27T02:07:59.279739",
     "exception": false,
     "start_time": "2020-08-27T02:07:59.248343",
     "status": "completed"
    },
    "tags": []
   },
   "outputs": [
    {
     "name": "stdout",
     "output_type": "stream",
     "text": [
      "X_train shape : (239, 5)\n",
      "Y_train shape : (239,)\n",
      "X_test shape : (60, 5)\n",
      "Y_test shape : (60,)\n"
     ]
    }
   ],
   "source": [
    "train_accuracy= []\n",
    "accuracy_list = []\n",
    "algorithm = []\n",
    "\n",
    "X_train,X_test,y_train,y_test = train_test_split(heart[['platelets','time','creatinine_phosphokinase','ejection_fraction','age']]\n",
    "                                                 ,heart['DEATH_EVENT'],test_size=0.2, random_state=0)\n",
    "print(\"X_train shape :\",X_train.shape)\n",
    "print(\"Y_train shape :\",y_train.shape)\n",
    "print(\"X_test shape :\",X_test.shape)\n",
    "print(\"Y_test shape :\",y_test.shape)"
   ]
  },
  {
   "cell_type": "markdown",
   "execution_count": null,
   "metadata": {
    "papermill": {
     "duration": 0.012608,
     "end_time": "2020-08-27T02:07:59.305712",
     "exception": false,
     "start_time": "2020-08-27T02:07:59.293104",
     "status": "completed"
    },
    "tags": []
   },
   "source": [
    "<a id=\"6\"></a>\n",
    "# Feature Scaling (Normalization)\n",
    "To remove outlier bias the formula $z=(x-u)/s$ is used first on the training set then applied to the testing set"
   ]
  },
  {
   "cell_type": "code",
   "execution_count": 10,
   "metadata": {
    "execution": {
     "iopub.execute_input": "2020-08-27T02:07:59.337728Z",
     "iopub.status.busy": "2020-08-27T02:07:59.336608Z",
     "iopub.status.idle": "2020-08-27T02:07:59.340240Z",
     "shell.execute_reply": "2020-08-27T02:07:59.339612Z"
    },
    "papermill": {
     "duration": 0.022003,
     "end_time": "2020-08-27T02:07:59.340390",
     "exception": false,
     "start_time": "2020-08-27T02:07:59.318387",
     "status": "completed"
    },
    "tags": []
   },
   "outputs": [],
   "source": [
    "scaler_ss=preprocessing.StandardScaler()"
   ]
  },
  {
   "cell_type": "code",
   "execution_count": 11,
   "metadata": {
    "execution": {
     "iopub.execute_input": "2020-08-27T02:07:59.377278Z",
     "iopub.status.busy": "2020-08-27T02:07:59.374494Z",
     "iopub.status.idle": "2020-08-27T02:07:59.384112Z",
     "shell.execute_reply": "2020-08-27T02:07:59.383232Z"
    },
    "papermill": {
     "duration": 0.030402,
     "end_time": "2020-08-27T02:07:59.384263",
     "exception": false,
     "start_time": "2020-08-27T02:07:59.353861",
     "status": "completed"
    },
    "tags": []
   },
   "outputs": [],
   "source": [
    "X_train_scaled=scaler_ss.fit_transform(X_train)\n",
    "X_test_scaled=scaler_ss.transform(X_test)"
   ]
  },
  {
   "cell_type": "markdown",
   "execution_count": null,
   "metadata": {
    "papermill": {
     "duration": 0.012629,
     "end_time": "2020-08-27T02:07:59.409747",
     "exception": false,
     "start_time": "2020-08-27T02:07:59.397118",
     "status": "completed"
    },
    "tags": []
   },
   "source": [
    "# Confusion Matrix"
   ]
  },
  {
   "cell_type": "code",
   "execution_count": 12,
   "metadata": {
    "execution": {
     "iopub.execute_input": "2020-08-27T02:07:59.450248Z",
     "iopub.status.busy": "2020-08-27T02:07:59.445646Z",
     "iopub.status.idle": "2020-08-27T02:07:59.454254Z",
     "shell.execute_reply": "2020-08-27T02:07:59.453407Z"
    },
    "papermill": {
     "duration": 0.031033,
     "end_time": "2020-08-27T02:07:59.454390",
     "exception": false,
     "start_time": "2020-08-27T02:07:59.423357",
     "status": "completed"
    },
    "tags": []
   },
   "outputs": [],
   "source": [
    "def plot_confusion_matrix(cm, classes,\n",
    "                          normalize=False,\n",
    "                          title='Confusion Matrix',\n",
    "                          cmap=plt.cm.BuGn):\n",
    "\n",
    "    print(cm)\n",
    "    plt.imshow(cm, interpolation='nearest', cmap=cmap)\n",
    "    plt.title(title)\n",
    "    plt.colorbar()\n",
    "    tick_marks = np.arange(len(classes))\n",
    "    plt.xticks(tick_marks, classes, rotation=45)\n",
    "    plt.yticks(tick_marks, classes)\n",
    "\n",
    "    fmt = '.2f' if normalize else 'd'\n",
    "    thresh = cm.max() / 2.\n",
    "    for i, j in itertools.product(range(cm.shape[0]), range(cm.shape[1])):\n",
    "        plt.text(j, i, format(cm[i, j], fmt),\n",
    "                 horizontalalignment=\"center\",\n",
    "                 color=\"white\" if cm[i, j] > thresh else \"black\")\n",
    "\n",
    "    plt.ylabel('True label')\n",
    "    plt.xlabel('Predicted label')\n",
    "    plt.tight_layout()"
   ]
  },
  {
   "cell_type": "markdown",
   "execution_count": null,
   "metadata": {
    "papermill": {
     "duration": 0.012565,
     "end_time": "2020-08-27T02:07:59.480107",
     "exception": false,
     "start_time": "2020-08-27T02:07:59.467542",
     "status": "completed"
    },
    "tags": []
   },
   "source": [
    "<a id=\"7\"></a>\n",
    "# Machine Learning\n",
    "<b>Alive is representative of (0) while Death is (1)  </b>"
   ]
  },
  {
   "cell_type": "markdown",
   "execution_count": null,
   "metadata": {
    "papermill": {
     "duration": 0.012542,
     "end_time": "2020-08-27T02:07:59.505584",
     "exception": false,
     "start_time": "2020-08-27T02:07:59.493042",
     "status": "completed"
    },
    "tags": []
   },
   "source": [
    "<a id=\"7.1\"></a>\n",
    "## Logistic Regression"
   ]
  },
  {
   "cell_type": "code",
   "execution_count": 13,
   "metadata": {
    "execution": {
     "iopub.execute_input": "2020-08-27T02:07:59.546256Z",
     "iopub.status.busy": "2020-08-27T02:07:59.545150Z",
     "iopub.status.idle": "2020-08-27T02:07:59.823692Z",
     "shell.execute_reply": "2020-08-27T02:07:59.822926Z"
    },
    "papermill": {
     "duration": 0.305299,
     "end_time": "2020-08-27T02:07:59.823826",
     "exception": false,
     "start_time": "2020-08-27T02:07:59.518527",
     "status": "completed"
    },
    "tags": []
   },
   "outputs": [
    {
     "name": "stdout",
     "output_type": "stream",
     "text": [
      "Train Accuracy 0.795\n",
      "Test Accuracy0.767\n",
      "[[32  5]\n",
      " [ 9 14]]\n"
     ]
    },
    {
     "data": {
      "image/png": "[encoded data removed]",
      "text/plain": [
       "<Figure size 432x288 with 2 Axes>"
      ]
     },
     "metadata": {
      "needs_background": "light"
     },
     "output_type": "display_data"
    }
   ],
   "source": [
    "Log_Reg=LogisticRegression(C=1, class_weight='balanced', dual=False,\n",
    "                   fit_intercept=True, intercept_scaling=1, l1_ratio=None,\n",
    "                   max_iter=1000, multi_class='auto', n_jobs=None, penalty='l2',\n",
    "                   random_state=0, solver='lbfgs', tol=0.0001, verbose=0,\n",
    "                   warm_start=False)\n",
    "Log_Reg.fit(X_train_scaled, y_train)\n",
    "y_reg=Log_Reg.predict(X_test_scaled)\n",
    "print(\"Train Accuracy {0:.3f}\".format(Log_Reg.score(X_train_scaled, y_train)))\n",
    "print('Test Accuracy' \"{0:.3f}\".format(metrics.accuracy_score(y_test, y_reg)))\n",
    "cm = metrics.confusion_matrix(y_test, y_reg)\n",
    "np.set_printoptions(precision=2)\n",
    "plt.figure()\n",
    "plot_confusion_matrix(cm, classes=['Alive', 'Death'],\n",
    "                          title='Logistic Regression')\n",
    "accuracy_list.append(metrics.accuracy_score(y_test, y_reg)*100)\n",
    "train_accuracy.append(Log_Reg.score(X_train_scaled, y_train))\n",
    "algorithm.append('Logistic Regression')"
   ]
  },
  {
   "cell_type": "markdown",
   "execution_count": null,
   "metadata": {
    "papermill": {
     "duration": 0.013439,
     "end_time": "2020-08-27T02:07:59.852482",
     "exception": false,
     "start_time": "2020-08-27T02:07:59.839043",
     "status": "completed"
    },
    "tags": []
   },
   "source": [
    "<a id=\"7.2\"></a>\n",
    "## Support Vector Machine\n",
    "By using GRIDSearchCV the best kernel will be decided for the model."
   ]
  },
  {
   "cell_type": "code",
   "execution_count": 14,
   "metadata": {
    "execution": {
     "iopub.execute_input": "2020-08-27T02:07:59.983194Z",
     "iopub.status.busy": "2020-08-27T02:07:59.982029Z",
     "iopub.status.idle": "2020-08-27T02:08:00.303046Z",
     "shell.execute_reply": "2020-08-27T02:08:00.302279Z"
    },
    "papermill": {
     "duration": 0.437146,
     "end_time": "2020-08-27T02:08:00.303181",
     "exception": false,
     "start_time": "2020-08-27T02:07:59.866035",
     "status": "completed"
    },
    "tags": []
   },
   "outputs": [
    {
     "name": "stdout",
     "output_type": "stream",
     "text": [
      "The best parameters are  {'C': 1, 'decision_function_shape': 'ovr', 'kernel': 'rbf', 'random_state': 0}\n",
      "Train Accuracy 0.883\n",
      "Test Accuracy0.767\n",
      "[[36  1]\n",
      " [13 10]]\n"
     ]
    },
    {
     "data": {
      "image/png": "[encoded data removed]",
      "text/plain": [
       "<Figure size 432x288 with 2 Axes>"
      ]
     },
     "metadata": {
      "needs_background": "light"
     },
     "output_type": "display_data"
    }
   ],
   "source": [
    "SVC_param={'kernel':['sigmoid','rbf','poly'],'C':[1],'decision_function_shape':['ovr'],'random_state':[0]}\n",
    "SVC_pol=SVC()\n",
    "SVC_parm=GridSearchCV(SVC_pol, SVC_param, cv=5)\n",
    "SVC_parm.fit(X_train_scaled, y_train)\n",
    "y_pol=SVC_parm.predict(X_test_scaled)\n",
    "print(\"The best parameters are \",SVC_parm.best_params_)\n",
    "print(\"Train Accuracy {0:.3f}\".format(SVC_parm.score(X_train_scaled, y_train)))\n",
    "print('Test Accuracy' \"{0:.3f}\".format(metrics.accuracy_score(y_test, y_pol)))\n",
    "cm = metrics.confusion_matrix(y_test, y_pol)\n",
    "np.set_printoptions(precision=2)\n",
    "plt.figure()\n",
    "plot_confusion_matrix(cm, classes=['Alive', 'Death'],\n",
    "                          title='SVM')\n",
    "train_accuracy.append(SVC_parm.score(X_train_scaled, y_train))\n",
    "accuracy_list.append(metrics.accuracy_score(y_test, y_pol)*100)\n",
    "algorithm.append('SVM')"
   ]
  },
  {
   "cell_type": "markdown",
   "execution_count": null,
   "metadata": {
    "papermill": {
     "duration": 0.013276,
     "end_time": "2020-08-27T02:08:00.330237",
     "exception": false,
     "start_time": "2020-08-27T02:08:00.316961",
     "status": "completed"
    },
    "tags": []
   },
   "source": [
    "<a id=\"7.3\"></a>\n",
    "## K-Nearest Neighbor\n",
    "First we need to select the best value of K for the highest accuracy in the model."
   ]
  },
  {
   "cell_type": "code",
   "execution_count": 15,
   "metadata": {
    "execution": {
     "iopub.execute_input": "2020-08-27T02:08:00.370692Z",
     "iopub.status.busy": "2020-08-27T02:08:00.369837Z",
     "iopub.status.idle": "2020-08-27T02:08:00.494512Z",
     "shell.execute_reply": "2020-08-27T02:08:00.493864Z"
    },
    "papermill": {
     "duration": 0.150242,
     "end_time": "2020-08-27T02:08:00.494677",
     "exception": false,
     "start_time": "2020-08-27T02:08:00.344435",
     "status": "completed"
    },
    "tags": []
   },
   "outputs": [],
   "source": [
    "error = []\n",
    "# Calculating error for K values between 1 and 40\n",
    "for i in range(1, 40):\n",
    "    K_NN =KNeighborsClassifier(algorithm='auto', leaf_size=30, metric='minkowski',\n",
    "                     metric_params=None, n_jobs=None, n_neighbors=i, p=2,\n",
    "                     weights='distance')\n",
    "    K_NN.fit(X_train_scaled, y_train)\n",
    "    pred_i = K_NN.predict(X_test_scaled)\n",
    "    error.append(np.mean(pred_i != y_test))"
   ]
  },
  {
   "cell_type": "code",
   "execution_count": 16,
   "metadata": {
    "execution": {
     "iopub.execute_input": "2020-08-27T02:08:00.543256Z",
     "iopub.status.busy": "2020-08-27T02:08:00.538863Z",
     "iopub.status.idle": "2020-08-27T02:08:00.725675Z",
     "shell.execute_reply": "2020-08-27T02:08:00.724887Z"
    },
    "papermill": {
     "duration": 0.217391,
     "end_time": "2020-08-27T02:08:00.725833",
     "exception": false,
     "start_time": "2020-08-27T02:08:00.508442",
     "status": "completed"
    },
    "tags": []
   },
   "outputs": [
    {
     "data": {
      "text/plain": [
       "Text(0, 0.5, 'Mean Error')"
      ]
     },
     "execution_count": 16,
     "metadata": {},
     "output_type": "execute_result"
    },
    {
     "data": {
      "image/png": "[encoded data removed]",
      "text/plain": [
       "<Figure size 864x432 with 1 Axes>"
      ]
     },
     "metadata": {
      "needs_background": "light"
     },
     "output_type": "display_data"
    }
   ],
   "source": [
    "plt.figure(figsize=(12, 6))\n",
    "plt.plot(range(1, 40), error, color='red', linestyle='dashed', marker='o',\n",
    "         markerfacecolor='blue', markersize=10)\n",
    "plt.title('Error Rate K Value')\n",
    "plt.xlabel('K Value')\n",
    "plt.ylabel('Mean Error')"
   ]
  },
  {
   "cell_type": "markdown",
   "execution_count": null,
   "metadata": {
    "papermill": {
     "duration": 0.013757,
     "end_time": "2020-08-27T02:08:00.754027",
     "exception": false,
     "start_time": "2020-08-27T02:08:00.740270",
     "status": "completed"
    },
    "tags": []
   },
   "source": [
    "Looking at the error helps decide the best K-Value given the parameters. The lower the error at K the better accuracy there will be."
   ]
  },
  {
   "cell_type": "code",
   "execution_count": 17,
   "metadata": {
    "execution": {
     "iopub.execute_input": "2020-08-27T02:08:00.796896Z",
     "iopub.status.busy": "2020-08-27T02:08:00.795750Z",
     "iopub.status.idle": "2020-08-27T02:08:01.006251Z",
     "shell.execute_reply": "2020-08-27T02:08:01.006822Z"
    },
    "papermill": {
     "duration": 0.238923,
     "end_time": "2020-08-27T02:08:01.006996",
     "exception": false,
     "start_time": "2020-08-27T02:08:00.768073",
     "status": "completed"
    },
    "tags": []
   },
   "outputs": [
    {
     "name": "stdout",
     "output_type": "stream",
     "text": [
      "Train Accuracy 1.000\n",
      "Test Accuracy0.800\n",
      "[[35  2]\n",
      " [10 13]]\n"
     ]
    },
    {
     "data": {
      "image/png": "[encoded data removed]",
      "text/plain": [
       "<Figure size 432x288 with 2 Axes>"
      ]
     },
     "metadata": {
      "needs_background": "light"
     },
     "output_type": "display_data"
    }
   ],
   "source": [
    "K_NN =KNeighborsClassifier(algorithm='auto', leaf_size=30, metric='minkowski',\n",
    "                     metric_params=None, n_jobs=None, n_neighbors=2, p=2,\n",
    "                     weights='distance')\n",
    "K_NN.fit(X_train_scaled, y_train)\n",
    "y_KNN=K_NN.predict(X_test_scaled)\n",
    "print(\"Train Accuracy {0:.3f}\".format(K_NN.score(X_train_scaled, y_train)))\n",
    "print('Test Accuracy' \"{0:.3f}\".format(metrics.accuracy_score(y_test, y_KNN)))\n",
    "cm = metrics.confusion_matrix(y_test, y_KNN)\n",
    "np.set_printoptions(precision=2)\n",
    "plt.figure()\n",
    "plot_confusion_matrix(cm, classes=['Alive', 'Death'],\n",
    "                          title='KNN')\n",
    "train_accuracy.append(K_NN.score(X_train_scaled, y_train))\n",
    "accuracy_list.append(metrics.accuracy_score(y_test, y_KNN)*100)\n",
    "algorithm.append('KNN')"
   ]
  },
  {
   "cell_type": "markdown",
   "execution_count": null,
   "metadata": {
    "papermill": {
     "duration": 0.013876,
     "end_time": "2020-08-27T02:08:01.035140",
     "exception": false,
     "start_time": "2020-08-27T02:08:01.021264",
     "status": "completed"
    },
    "tags": []
   },
   "source": [
    "<a id=\"7.4\"></a>\n",
    "## Random Forest\n",
    "By using GRIDSearchCV the best parameters will be decided for the model."
   ]
  },
  {
   "cell_type": "code",
   "execution_count": 18,
   "metadata": {
    "execution": {
     "iopub.execute_input": "2020-08-27T02:08:01.078902Z",
     "iopub.status.busy": "2020-08-27T02:08:01.072628Z",
     "iopub.status.idle": "2020-08-27T02:08:39.647040Z",
     "shell.execute_reply": "2020-08-27T02:08:39.646191Z"
    },
    "papermill": {
     "duration": 38.597935,
     "end_time": "2020-08-27T02:08:39.647185",
     "exception": false,
     "start_time": "2020-08-27T02:08:01.049250",
     "status": "completed"
    },
    "tags": []
   },
   "outputs": [
    {
     "name": "stdout",
     "output_type": "stream",
     "text": [
      "The best parameters are  {'criterion': 'gini', 'max_depth': 3, 'max_features': 0.5, 'n_estimators': 100, 'random_state': None}\n",
      "Train Accuracy 0.870\n",
      "Test Accuracy0.833\n",
      "[[36  1]\n",
      " [ 9 14]]\n"
     ]
    },
    {
     "data": {
      "image/png": "[encoded data removed]",
      "text/plain": [
       "<Figure size 432x288 with 2 Axes>"
      ]
     },
     "metadata": {
      "needs_background": "light"
     },
     "output_type": "display_data"
    }
   ],
   "source": [
    "RFC_param={'max_depth':[1,2,3,4,5],'n_estimators':[10,25,50,100,150],'random_state':[None],\n",
    "           'criterion':['entropy','gini'],'max_features':[0.5]}\n",
    "RFC=RandomForestClassifier()\n",
    "RFC_parm=GridSearchCV(RFC, RFC_param, cv=5)\n",
    "RFC_parm.fit(X_train_scaled, y_train)\n",
    "y_RFC=RFC_parm.predict(X_test_scaled)\n",
    "print(\"The best parameters are \",RFC_parm.best_params_)\n",
    "print(\"Train Accuracy {0:.3f}\".format(RFC_parm.score(X_train_scaled, y_train)))\n",
    "print('Test Accuracy' \"{0:.3f}\".format(metrics.accuracy_score(y_test, y_RFC)))\n",
    "cm = metrics.confusion_matrix(y_test, y_RFC)\n",
    "np.set_printoptions(precision=2)\n",
    "plt.figure()\n",
    "plot_confusion_matrix(cm, classes=['Alive', 'Death'],\n",
    "                          title='RFC')\n",
    "train_accuracy.append(RFC_parm.score(X_train_scaled, y_train))\n",
    "accuracy_list.append(metrics.accuracy_score(y_test, y_RFC)*100)\n",
    "algorithm.append('Random Forest')"
   ]
  },
  {
   "cell_type": "markdown",
   "execution_count": null,
   "metadata": {
    "papermill": {
     "duration": 0.014258,
     "end_time": "2020-08-27T02:08:39.676393",
     "exception": false,
     "start_time": "2020-08-27T02:08:39.662135",
     "status": "completed"
    },
    "tags": []
   },
   "source": [
    "<a id=\"7.5\"></a>\n",
    "## Gradient Boosting Classifier\n",
    "By using GRIDSearchCV the best parameters will be decided for the model."
   ]
  },
  {
   "cell_type": "code",
   "execution_count": 19,
   "metadata": {
    "execution": {
     "iopub.execute_input": "2020-08-27T02:08:39.723304Z",
     "iopub.status.busy": "2020-08-27T02:08:39.722253Z",
     "iopub.status.idle": "2020-08-27T02:10:28.500291Z",
     "shell.execute_reply": "2020-08-27T02:10:28.499627Z"
    },
    "papermill": {
     "duration": 108.808733,
     "end_time": "2020-08-27T02:10:28.500426",
     "exception": false,
     "start_time": "2020-08-27T02:08:39.691693",
     "status": "completed"
    },
    "tags": []
   },
   "outputs": [
    {
     "name": "stdout",
     "output_type": "stream",
     "text": [
      "The best parameters are  {'criterion': 'friedman_mse', 'learning_rate': 0.1, 'loss': 'deviance', 'max_depth': 1, 'max_features': None, 'n_estimators': 50, 'random_state': None}\n",
      "Train Accuracy 0.862\n",
      "Test Accuracy0.833\n",
      "[[36  1]\n",
      " [ 9 14]]\n"
     ]
    },
    {
     "data": {
      "image/png": "[encoded data removed]",
      "text/plain": [
       "<Figure size 432x288 with 2 Axes>"
      ]
     },
     "metadata": {
      "needs_background": "light"
     },
     "output_type": "display_data"
    }
   ],
   "source": [
    "GBC_parma={'loss':['deviance','exponential'],'n_estimators':[10,25,50,100,150],'learning_rate':[0.1,0.25, 0.5, 0.75],\n",
    "          'criterion':['friedman_mse'], 'max_features':[None],'max_depth':[1,2,3,4,5,10],'random_state':[None]}\n",
    "GBC = GradientBoostingClassifier()\n",
    "GBC_parm=GridSearchCV(GBC, GBC_parma, cv=5)\n",
    "GBC_parm.fit(X_train_scaled, y_train)\n",
    "y_GBC=GBC_parm.predict(X_test_scaled)\n",
    "print(\"The best parameters are \",GBC_parm.best_params_)\n",
    "print(\"Train Accuracy {0:.3f}\".format(GBC_parm.score(X_train_scaled, y_train)))\n",
    "print('Test Accuracy' \"{0:.3f}\".format(metrics.accuracy_score(y_test, y_GBC)))\n",
    "cm = metrics.confusion_matrix(y_test, y_GBC)\n",
    "np.set_printoptions(precision=2)\n",
    "plt.figure()\n",
    "plot_confusion_matrix(cm, classes=['Alive', 'Death'],\n",
    "                          title='GBC')\n",
    "train_accuracy.append(GBC_parm.score(X_train_scaled, y_train))\n",
    "accuracy_list.append(metrics.accuracy_score(y_test, y_GBC)*100)\n",
    "algorithm.append('GBC')"
   ]
  },
  {
   "cell_type": "markdown",
   "execution_count": null,
   "metadata": {
    "papermill": {
     "duration": 0.014822,
     "end_time": "2020-08-27T02:10:28.530596",
     "exception": false,
     "start_time": "2020-08-27T02:10:28.515774",
     "status": "completed"
    },
    "tags": []
   },
   "source": [
    "<a id=\"7.6\"></a>\n",
    "## Ridge Classifier\n",
    "By using GRIDSearchCV the best parameters will be decided for the model."
   ]
  },
  {
   "cell_type": "code",
   "execution_count": 20,
   "metadata": {
    "execution": {
     "iopub.execute_input": "2020-08-27T02:10:28.575711Z",
     "iopub.status.busy": "2020-08-27T02:10:28.573909Z",
     "iopub.status.idle": "2020-08-27T02:10:29.461483Z",
     "shell.execute_reply": "2020-08-27T02:10:29.460861Z"
    },
    "papermill": {
     "duration": 0.916325,
     "end_time": "2020-08-27T02:10:29.461760",
     "exception": false,
     "start_time": "2020-08-27T02:10:28.545435",
     "status": "completed"
    },
    "tags": []
   },
   "outputs": [
    {
     "name": "stdout",
     "output_type": "stream",
     "text": [
      "The best parameters are  {'alpha': 0, 'normalize': True, 'solver': 'svd'}\n",
      "Train Accuracy 0.858\n",
      "Test Accuracy0.750\n",
      "[[35  2]\n",
      " [13 10]]\n"
     ]
    },
    {
     "data": {
      "image/png": "[encoded data removed]",
      "text/plain": [
       "<Figure size 432x288 with 2 Axes>"
      ]
     },
     "metadata": {
      "needs_background": "light"
     },
     "output_type": "display_data"
    }
   ],
   "source": [
    "RC_parma={'solver':['svd','lsqr','cholesky'],'alpha':[0,0.5,0.75,1,1.5,2],'normalize':[True,False]}\n",
    "RC=RidgeClassifier()\n",
    "RC_parm=GridSearchCV(RC, RC_parma, cv=5)\n",
    "RC_parm.fit(X_train_scaled, y_train)\n",
    "y_RC=RC_parm.predict(X_test_scaled)\n",
    "print(\"The best parameters are \",RC_parm.best_params_)\n",
    "print(\"Train Accuracy {0:.3f}\".format(RC_parm.score(X_train_scaled, y_train)))\n",
    "print('Test Accuracy' \"{0:.3f}\".format(metrics.accuracy_score(y_test, y_RC)))\n",
    "cm = metrics.confusion_matrix(y_test, y_RC)\n",
    "np.set_printoptions(precision=2)\n",
    "plt.figure()\n",
    "plot_confusion_matrix(cm, classes=['Alive', 'Death'],\n",
    "                          title='Ridge Classifier')\n",
    "train_accuracy.append(RC_parm.score(X_train_scaled, y_train))\n",
    "accuracy_list.append(metrics.accuracy_score(y_test, y_RC)*100)\n",
    "algorithm.append('Ridge Classifier')"
   ]
  },
  {
   "cell_type": "markdown",
   "execution_count": null,
   "metadata": {
    "papermill": {
     "duration": 0.015017,
     "end_time": "2020-08-27T02:10:29.492134",
     "exception": false,
     "start_time": "2020-08-27T02:10:29.477117",
     "status": "completed"
    },
    "tags": []
   },
   "source": [
    "<a id=\"9\"></a>\n",
    "# Evaluation of Accuracy"
   ]
  },
  {
   "cell_type": "code",
   "execution_count": 21,
   "metadata": {
    "execution": {
     "iopub.execute_input": "2020-08-27T02:10:29.537350Z",
     "iopub.status.busy": "2020-08-27T02:10:29.536185Z",
     "iopub.status.idle": "2020-08-27T02:10:29.701371Z",
     "shell.execute_reply": "2020-08-27T02:10:29.700640Z"
    },
    "papermill": {
     "duration": 0.194155,
     "end_time": "2020-08-27T02:10:29.701502",
     "exception": false,
     "start_time": "2020-08-27T02:10:29.507347",
     "status": "completed"
    },
    "tags": []
   },
   "outputs": [
    {
     "data": {
      "image/png": "[encoded data removed]",
      "text/plain": [
       "<Figure size 720x360 with 1 Axes>"
      ]
     },
     "metadata": {
      "needs_background": "light"
     },
     "output_type": "display_data"
    }
   ],
   "source": [
    "#Train Accuracy\n",
    "f,ax = plt.subplots(figsize = (10,5))\n",
    "sns.barplot(x=train_accuracy,y=algorithm,palette = sns.dark_palette(\"blue\",len(accuracy_list)))\n",
    "plt.xlabel(\"Accuracy\")\n",
    "plt.ylabel(\"Algorithm\")\n",
    "plt.title('Algorithm Train Accuracy')\n",
    "plt.show()"
   ]
  },
  {
   "cell_type": "code",
   "execution_count": 22,
   "metadata": {
    "execution": {
     "iopub.execute_input": "2020-08-27T02:10:29.746972Z",
     "iopub.status.busy": "2020-08-27T02:10:29.746185Z",
     "iopub.status.idle": "2020-08-27T02:10:29.921835Z",
     "shell.execute_reply": "2020-08-27T02:10:29.921086Z"
    },
    "papermill": {
     "duration": 0.204945,
     "end_time": "2020-08-27T02:10:29.921962",
     "exception": false,
     "start_time": "2020-08-27T02:10:29.717017",
     "status": "completed"
    },
    "tags": []
   },
   "outputs": [
    {
     "data": {
      "image/png": "[encoded data removed]",
      "text/plain": [
       "<Figure size 720x360 with 1 Axes>"
      ]
     },
     "metadata": {
      "needs_background": "light"
     },
     "output_type": "display_data"
    }
   ],
   "source": [
    "#Testing Accuracy\n",
    "f,ax = plt.subplots(figsize = (10,5))\n",
    "sns.barplot(x=accuracy_list,y=algorithm,palette = sns.dark_palette(\"blue\",len(accuracy_list)))\n",
    "plt.xlabel(\"Accuracy\")\n",
    "plt.ylabel(\"Algorithm\")\n",
    "plt.title('Algorithm Test Accuracy')\n",
    "plt.show()"
   ]
  },
  {
   "cell_type": "markdown",
   "execution_count": null,
   "metadata": {
    "papermill": {
     "duration": 0.015901,
     "end_time": "2020-08-27T02:10:29.953638",
     "exception": false,
     "start_time": "2020-08-27T02:10:29.937737",
     "status": "completed"
    },
    "tags": []
   },
   "source": [
    "<a id=\"10\"></a>\n",
    "# Discussion\n",
    "- Using the KBest approach with $Chi^{2}$ score can be an effective approach for feature selection.\n",
    "- However, other methods for this data set in feature selection should be suggested such as a correlation matrix or tree importance based selection method\n",
    "- Training accuracy does not mean the model will predict as well and models with lower training accuracy can predict better\n",
    "- Lastly, tree ensembles may be a better selection for this type of data set with the given features used.\n",
    "- If this notebook is helpful please provide an upvote!\n",
    "- Feed back is also really nice!"
   ]
  }
 ],
 "metadata": {
  "kernelspec": {
   "display_name": "Python 3",
   "language": "python",
   "name": "python3"
  },
  "language_info": {
   "codemirror_mode": {
    "name": "ipython",
    "version": 3
   },
   "file_extension": ".py",
   "mimetype": "text/x-python",
   "name": "python",
   "nbconvert_exporter": "python",
   "pygments_lexer": "ipython3",
   "version": "3.7.6"
  },
  "papermill": {
   "duration": 158.124761,
   "end_time": "2020-08-27T02:10:30.077730",
   "environment_variables": {},
   "exception": null,
   "input_path": "__notebook__.ipynb",
   "output_path": "__notebook__.ipynb",
   "parameters": {},
   "start_time": "2020-08-27T02:07:51.952969",
   "version": "2.1.0"
  }
 },
 "nbformat": 4,
 "nbformat_minor": 4
}
